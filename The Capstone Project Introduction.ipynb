{
 "cells": [
  {
   "cell_type": "markdown",
   "metadata": {
    "collapsed": true
   },
   "source": [
    "# Capstone Project - The Battle of Neighborhoods (Week 1)"
   ]
  },
  {
   "cell_type": "markdown",
   "metadata": {},
   "source": [
    "## Introduction"
   ]
  },
  {
   "cell_type": "markdown",
   "metadata": {},
   "source": [
    "Evey time I go abroad I have the same problem of which hotel to choose and which nice places there are around the hotel. I usually short of time and I need everything to be close to me in the best way possibe. I want to find the best hotels in the best locations. Everywhere."
   ]
  },
  {
   "cell_type": "markdown",
   "metadata": {},
   "source": [
    "### Business Problem"
   ]
  },
  {
   "cell_type": "markdown",
   "metadata": {},
   "source": [
    "The searching procedure of hotels can be very frustrating. You don't realy know the city and where is the best places for you to stay depending on the quality of the hotel and the surroundings. It can take a lot of time to find a hotel which provides you the best deal for your stay."
   ]
  },
  {
   "cell_type": "markdown",
   "metadata": {},
   "source": [
    "### Strategy"
   ]
  },
  {
   "cell_type": "markdown",
   "metadata": {},
   "source": [
    "The aim of my work is to use machine learning in order to find the best hotels in the best areas and let the costumer to choose from a very limited collection of \"the best of the best\" what hotel is his number 1 hotel.\n",
    "This work will Use Foursquare API to get the Data of Hotels in any City provided by the User, it will display ratings of the hotels. So we can Rank Hotels. the code will also search for Nearby Places for the Top 5 Hotels and Display them to the user. It will help them to choosing the Hotel based on their Personal Favorable Nearby Places."
   ]
  },
  {
   "cell_type": "markdown",
   "metadata": {},
   "source": [
    "## Data"
   ]
  },
  {
   "cell_type": "markdown",
   "metadata": {},
   "source": [
    "User will write down the name of the city and using Geopy Library, he will get it's coordinates. Using Folium library, a map of his chosen location will be made. On top of that map he will see the hotels and the surroundings.\n",
    "\n",
    "Using Foursquare API the user will get hotels in a redius of 7 KM from his city of choice. A JSON file will be produced and it will be converted to Pandas DataFrame containing all the relevant hotels data.\n",
    "\n",
    "Having hotel ID's, using foursquare API, the user will get ratings of the hotels in a data frame.\n",
    "\n",
    "The next stage is to get top 5 by sorting them into a data frame.\n",
    "\n",
    "Having the hotels locations, Foursquare API can find places in the area around the hotel. This data frame will be combined with the hotels data frame.\n",
    "\n",
    "Finally, a map all Nearby Places along with the 5 Hotels will be generated with clusters of Hotels + Nearby Places using K-Means Algorithm."
   ]
  }
 ],
 "metadata": {
  "kernelspec": {
   "display_name": "Python 3.6",
   "language": "python",
   "name": "python3"
  },
  "language_info": {
   "codemirror_mode": {
    "name": "ipython",
    "version": 3
   },
   "file_extension": ".py",
   "mimetype": "text/x-python",
   "name": "python",
   "nbconvert_exporter": "python",
   "pygments_lexer": "ipython3",
   "version": "3.6.9"
  }
 },
 "nbformat": 4,
 "nbformat_minor": 1
}
