{
 "cells": [
  {
   "cell_type": "markdown",
   "metadata": {
    "collapsed": true
   },
   "source": [
    "# IBM Data Science Professional Certificate Capstone Project"
   ]
  },
  {
   "cell_type": "markdown",
   "metadata": {},
   "source": [
    "# Capstone Project - The Battle of Neighborhoods"
   ]
  },
  {
   "cell_type": "markdown",
   "metadata": {},
   "source": [
    "### Introduction"
   ]
  },
  {
   "cell_type": "markdown",
   "metadata": {},
   "source": [
    "Evey time I go abroad I have the same problem of which hotel to choose and which nice places there are around the hotel. I usually short of time and I need everything to be close to me in the best way possibe. I want to find the best hotels in the best locations. Everywhere."
   ]
  },
  {
   "cell_type": "markdown",
   "metadata": {},
   "source": [
    "### Business Problem"
   ]
  },
  {
   "cell_type": "markdown",
   "metadata": {},
   "source": [
    "The searching procedure of hotels can be very frustrating. You don't realy know the city and where is the best places for you to stay depending on the quality of the hotel and the surroundings. It can take a lot of time to find a hotel which provides you the best deal for your stay. Everyone who is going to stay in a hotelcan be a potentional client of this project."
   ]
  },
  {
   "cell_type": "markdown",
   "metadata": {},
   "source": [
    "### Strategy"
   ]
  },
  {
   "cell_type": "markdown",
   "metadata": {},
   "source": [
    "The aim of my work is to use machine learning in order to find the best hotels in the best areas and let the costumer to choose from a very limited collection of \"the best of the best\" what hotel is his number 1 hotel. This work will Use Foursquare API to get the Data of Hotels in any City provided by the User, it will display ratings of the hotels. So we can Rank Hotels. the code will also search for Nearby Places for the Top 5 Hotels and Display them to the user. It will help them to choosing the Hotel based on their Personal Favorable Nearby Places."
   ]
  },
  {
   "cell_type": "markdown",
   "metadata": {},
   "source": [
    "## Data"
   ]
  },
  {
   "cell_type": "markdown",
   "metadata": {},
   "source": [
    "User will write down the name of the city and using Geopy Library, he will get it's coordinates. Using Folium library, a map of his chosen location will be made. On top of that map he will see the hotels and the surroundings.\n",
    "\n",
    "Using Foursquare API the user will get hotels in a redius of 7 KM from his city of choice. A JSON file will be produced and it will be converted to Pandas DataFrame containing all the relevant hotels data.\n",
    "\n",
    "Having hotel ID's, using foursquare API, the user will get ratings of the hotels in a data frame.\n",
    "\n",
    "The next stage is to get top 5 by sorting them into a data frame.\n",
    "\n",
    "Having the hotels locations, Foursquare API can find places in the area around the hotel. This data frame will be combined with the hotels data frame.\n",
    "\n",
    "Finally, a map all Nearby Places along with the 5 Hotels will be generated with clusters of Hotels + Nearby Places using K-Means Algorithm."
   ]
  },
  {
   "cell_type": "markdown",
   "metadata": {},
   "source": [
    "Import the relevant libraries:"
   ]
  },
  {
   "cell_type": "markdown",
   "metadata": {},
   "source": [
    "## Methodology"
   ]
  },
  {
   "cell_type": "markdown",
   "metadata": {},
   "source": [
    "Our aim is to search for the best hotels in a 7 KM Radius from Miami coordinates\n",
    "\n",
    "We have collected the required data: location(coordinates) and type (category) of every Hotel (From Foursquare API).\n",
    "\n",
    "Next, using foursquare API, we will gather hotels rating and focus on top 5 and their surroundings.\n",
    "\n",
    "In third and final step we will focus on most promising areas and within those create clusters of locations that meet some basic requirements established in discussion with stakeholders: We will Cluster Hotel and their Nearby Places using K-means Clustering."
   ]
  },
  {
   "cell_type": "markdown",
   "metadata": {},
   "source": [
    "## Results:"
   ]
  },
  {
   "cell_type": "markdown",
   "metadata": {},
   "source": [
    "This analysis Shows that it is possible to get information about hotels in Miami, and retriving ratings not of all of them. Some have no rating at all.\n",
    "All hotels were sorted based on ratings and Top 5 hotels were selected to recommend them to the user.\n",
    "Nearby places from selected 5 hotels were searched. From this data we can see that we have various categories of places that users can choose hotel based on having their interested nearby places to visit and enjoy.\n",
    "In the last step, clusters of best hotels and their surroundings were made for the costumer's convenience"
   ]
  },
  {
   "cell_type": "markdown",
   "metadata": {},
   "source": [
    "## Discussion:"
   ]
  },
  {
   "cell_type": "markdown",
   "metadata": {},
   "source": [
    "People choose hotels also by their price per night and by their facilities. Moreover, the proximity to central bus/train stations can also be an issue plus many more features.\n",
    "Here there is a basic analysis. A deeper analysis can and must be made in order to get the best costumer satisfaction.\n",
    "For example, a list of restaurants of the costumer choice can be shown, museums, stores and more..."
   ]
  },
  {
   "cell_type": "markdown",
   "metadata": {},
   "source": [
    "## Conclusion:"
   ]
  },
  {
   "cell_type": "markdown",
   "metadata": {},
   "source": [
    "In this project a recommendation of the Best Hotels in a City together with nearby places was achived. The aim was to help Tourists in narrowing down the search for optimal location for stay. By getting ratings of All Hotels from Foursquare data, Top 5 hotels were sorted and a collection of nearby places which satisfy some basic requirements regarding favourite Places was added. Clustering of those nearby places was then performed in order to create major zones of interest (containing nearby places) and addresses of those zone centers were created to be used as starting points for exploration by the costumers.\n",
    "\n",
    "The final decission will be made by the costumers based on specific Requirements in every recommended zone. the costumer will choose and select the hotel to stay in by his own needs. This project can provide the costumer more than enough information in order to help him choose the best possible hotel in every city.\n",
    "\n"
   ]
  },
  {
   "cell_type": "markdown",
   "metadata": {},
   "source": [
    "# Hope you enjoyed :)"
   ]
  }
 ],
 "metadata": {
  "kernelspec": {
   "display_name": "Python 3.6",
   "language": "python",
   "name": "python3"
  },
  "language_info": {
   "codemirror_mode": {
    "name": "ipython",
    "version": 3
   },
   "file_extension": ".py",
   "mimetype": "text/x-python",
   "name": "python",
   "nbconvert_exporter": "python",
   "pygments_lexer": "ipython3",
   "version": "3.6.9"
  }
 },
 "nbformat": 4,
 "nbformat_minor": 1
}
